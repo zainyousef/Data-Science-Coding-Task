{
 "cells": [
  {
   "cell_type": "markdown",
   "metadata": {},
   "source": [
    "## DataGrasp Coding Test - Task 2 \n",
    "#### Zain Yousef"
   ]
  },
  {
   "cell_type": "markdown",
   "metadata": {},
   "source": [
    "Import libraries"
   ]
  },
  {
   "cell_type": "code",
   "execution_count": 1,
   "metadata": {
    "ignore": true
   },
   "outputs": [
    {
     "name": "stderr",
     "output_type": "stream",
     "text": [
      "Warning message:\n",
      "\"package 'tree' was built under R version 3.6.3\"Warning message:\n",
      "\"package 'MASS' was built under R version 3.6.3\"Warning message:\n",
      "\"package 'randomForest' was built under R version 3.6.3\"randomForest 4.6-14\n",
      "Type rfNews() to see new features/changes/bug fixes.\n",
      "Warning message:\n",
      "\"package 'gbm' was built under R version 3.6.3\"Loaded gbm 2.1.5\n",
      "Warning message:\n",
      "\"package 'ISLR' was built under R version 3.6.3\"Warning message:\n",
      "\"package 'rpart.plot' was built under R version 3.6.2\""
     ]
    }
   ],
   "source": [
    "library(tree, quietly = TRUE)\n",
    "library(MASS, quietly = TRUE)\n",
    "library(randomForest, quietly = TRUE)\n",
    "library(gbm, quietly = TRUE)\n",
    "library(ISLR, quietly = TRUE)\n",
    "library(rpart, quietly = TRUE)\n",
    "library(rpart.plot, quietly = TRUE)"
   ]
  },
  {
   "cell_type": "markdown",
   "metadata": {},
   "source": [
    "Import Carseats dataset"
   ]
  },
  {
   "cell_type": "code",
   "execution_count": 2,
   "metadata": {
    "ignore": true
   },
   "outputs": [],
   "source": [
    "Carseats = Carseats\n",
    "attach(Carseats)"
   ]
  },
  {
   "cell_type": "markdown",
   "metadata": {},
   "source": [
    "Create a High variable, which takes on a value of Yes if the Sales variable exceeds 8, and takes on a value of No otherwise"
   ]
  },
  {
   "cell_type": "code",
   "execution_count": 3,
   "metadata": {},
   "outputs": [],
   "source": [
    "High <- ifelse(Sales <= 8, \"No\", \"Yes\")"
   ]
  },
  {
   "cell_type": "markdown",
   "metadata": {},
   "source": [
    "We use data.frame() function to merge High with the rest of Carseats data"
   ]
  },
  {
   "cell_type": "code",
   "execution_count": 4,
   "metadata": {},
   "outputs": [],
   "source": [
    "Carseats <- data.frame(Carseats, High)"
   ]
  },
  {
   "cell_type": "markdown",
   "metadata": {},
   "source": [
    "### 1) Model building\n",
    "#### i) Fit a classification tree and a random forest model to predict the class of the sales (i.e. set High as the response variable and keep other variables as potential explanatory variables except Sales)."
   ]
  },
  {
   "cell_type": "markdown",
   "metadata": {},
   "source": [
    "Create classification tree"
   ]
  },
  {
   "cell_type": "code",
   "execution_count": 5,
   "metadata": {},
   "outputs": [
    {
     "name": "stdout",
     "output_type": "stream",
     "text": [
      "\n",
      "Classification tree:\n",
      "rpart(formula = High ~ . - Sales, data = Carseats, method = \"class\", \n",
      "    control = rpart.control(cp = 1e-04))\n",
      "\n",
      "Variables actually used in tree construction:\n",
      "[1] Advertising Age         CompPrice   Income      Price       ShelveLoc  \n",
      "\n",
      "Root node error: 164/400 = 0.41\n",
      "\n",
      "n= 400 \n",
      "\n",
      "         CP nsplit rel error  xerror     xstd\n",
      "1 0.2865854      0   1.00000 1.00000 0.059980\n",
      "2 0.1097561      1   0.71341 0.71341 0.055477\n",
      "3 0.0457317      2   0.60366 0.68293 0.054756\n",
      "4 0.0365854      4   0.51220 0.70732 0.055337\n",
      "5 0.0274390      5   0.47561 0.60366 0.052629\n",
      "6 0.0243902      7   0.42073 0.60366 0.052629\n",
      "7 0.0121951      8   0.39634 0.55488 0.051124\n",
      "8 0.0060976     10   0.37195 0.57317 0.051707\n",
      "9 0.0001000     11   0.36585 0.55488 0.051124\n"
     ]
    }
   ],
   "source": [
    "tree = rpart(High ~ . - Sales, data = Carseats, method = \"class\", control = rpart.control(cp = 0.0001))\n",
    "printcp(tree)"
   ]
  },
  {
   "cell_type": "markdown",
   "metadata": {},
   "source": [
    "Set cp equal to most effecient value that minimises xerror & update tree using this cp value"
   ]
  },
  {
   "cell_type": "code",
   "execution_count": 6,
   "metadata": {},
   "outputs": [],
   "source": [
    "cp = tree$cptable[which.min(tree$cptable[,\"xerror\"]),\"CP\"]\n",
    "tree_updated = prune(tree, cp = cp) # update tree with new cp"
   ]
  },
  {
   "cell_type": "markdown",
   "metadata": {},
   "source": [
    "Fit random forest model"
   ]
  },
  {
   "cell_type": "code",
   "execution_count": 7,
   "metadata": {},
   "outputs": [
    {
     "name": "stdout",
     "output_type": "stream",
     "text": [
      "\n",
      "Call:\n",
      " randomForest(formula = High ~ . - Sales, data = Carseats) \n",
      "               Type of random forest: classification\n",
      "                     Number of trees: 500\n",
      "No. of variables tried at each split: 3\n",
      "\n",
      "        OOB estimate of  error rate: 17.75%\n",
      "Confusion matrix:\n",
      "     No Yes class.error\n",
      "No  213  23  0.09745763\n",
      "Yes  48 116  0.29268293\n"
     ]
    }
   ],
   "source": [
    "rF = randomForest(High ~ . - Sales, data = Carseats)\n",
    "print(rF) # print result"
   ]
  },
  {
   "cell_type": "markdown",
   "metadata": {},
   "source": [
    "### 2) Plot \n",
    "#### i) Plot the classification tree and show the internal nodes in the tree, number of terminal nodes and the training error rate"
   ]
  },
  {
   "cell_type": "code",
   "execution_count": 8,
   "metadata": {
    "scrolled": false
   },
   "outputs": [
    {
     "data": {
      "image/png": "[encoded data removed]",
      "text/plain": [
       "Plot with title \"Classification tree plot for 'Carseats' dataset with training error rate\""
      ]
     },
     "metadata": {},
     "output_type": "display_data"
    }
   ],
   "source": [
    "prp(tree_updated, faclen = 0, type = 0,cex = 0.6, extra = 2,\n",
    "    main = \"Classification tree plot for 'Carseats' dataset with training error rate\")"
   ]
  },
  {
   "cell_type": "markdown",
   "metadata": {},
   "source": [
    "### 3) Feature importance\n",
    "#### i) List the importance of explanatory variables "
   ]
  },
  {
   "cell_type": "code",
   "execution_count": 9,
   "metadata": {},
   "outputs": [
    {
     "data": {
      "text/html": [
       "<table>\n",
       "<thead><tr><th></th><th scope=col>MeanDecreaseGini</th></tr></thead>\n",
       "<tbody>\n",
       "\t<tr><th scope=row>CompPrice</th><td>22.434442</td></tr>\n",
       "\t<tr><th scope=row>Income</th><td>19.939313</td></tr>\n",
       "\t<tr><th scope=row>Advertising</th><td>23.038261</td></tr>\n",
       "\t<tr><th scope=row>Population</th><td>15.287780</td></tr>\n",
       "\t<tr><th scope=row>Price</th><td>43.199193</td></tr>\n",
       "\t<tr><th scope=row>ShelveLoc</th><td>30.208784</td></tr>\n",
       "\t<tr><th scope=row>Age</th><td>23.331162</td></tr>\n",
       "\t<tr><th scope=row>Education</th><td> 9.783878</td></tr>\n",
       "\t<tr><th scope=row>Urban</th><td> 2.145969</td></tr>\n",
       "\t<tr><th scope=row>US</th><td> 3.463754</td></tr>\n",
       "</tbody>\n",
       "</table>\n"
      ],
      "text/latex": [
       "\\begin{tabular}{r|l}\n",
       "  & MeanDecreaseGini\\\\\n",
       "\\hline\n",
       "\tCompPrice & 22.434442\\\\\n",
       "\tIncome & 19.939313\\\\\n",
       "\tAdvertising & 23.038261\\\\\n",
       "\tPopulation & 15.287780\\\\\n",
       "\tPrice & 43.199193\\\\\n",
       "\tShelveLoc & 30.208784\\\\\n",
       "\tAge & 23.331162\\\\\n",
       "\tEducation &  9.783878\\\\\n",
       "\tUrban &  2.145969\\\\\n",
       "\tUS &  3.463754\\\\\n",
       "\\end{tabular}\n"
      ],
      "text/markdown": [
       "\n",
       "| <!--/--> | MeanDecreaseGini |\n",
       "|---|---|\n",
       "| CompPrice | 22.434442 |\n",
       "| Income | 19.939313 |\n",
       "| Advertising | 23.038261 |\n",
       "| Population | 15.287780 |\n",
       "| Price | 43.199193 |\n",
       "| ShelveLoc | 30.208784 |\n",
       "| Age | 23.331162 |\n",
       "| Education |  9.783878 |\n",
       "| Urban |  2.145969 |\n",
       "| US |  3.463754 |\n",
       "\n"
      ],
      "text/plain": [
       "            MeanDecreaseGini\n",
       "CompPrice   22.434442       \n",
       "Income      19.939313       \n",
       "Advertising 23.038261       \n",
       "Population  15.287780       \n",
       "Price       43.199193       \n",
       "ShelveLoc   30.208784       \n",
       "Age         23.331162       \n",
       "Education    9.783878       \n",
       "Urban        2.145969       \n",
       "US           3.463754       "
      ]
     },
     "metadata": {},
     "output_type": "display_data"
    }
   ],
   "source": [
    "importance(rF)"
   ]
  }
 ],
 "metadata": {
  "kernelspec": {
   "display_name": "R",
   "language": "R",
   "name": "ir"
  },
  "language_info": {
   "codemirror_mode": "r",
   "file_extension": ".r",
   "mimetype": "text/x-r-source",
   "name": "R",
   "pygments_lexer": "r",
   "version": "3.6.1"
  }
 },
 "nbformat": 4,
 "nbformat_minor": 4
}
