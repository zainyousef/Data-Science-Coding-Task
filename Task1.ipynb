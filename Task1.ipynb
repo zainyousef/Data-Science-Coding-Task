{
 "cells": [
  {
   "cell_type": "markdown",
   "metadata": {},
   "source": [
    "## DataGrasp Coding Test - Task 1 \n",
    "### Zain Yousef"
   ]
  },
  {
   "cell_type": "markdown",
   "metadata": {},
   "source": [
    "Import libraries"
   ]
  },
  {
   "cell_type": "code",
   "execution_count": 4,
   "metadata": {
    "ignore": true
   },
   "outputs": [],
   "source": [
    "library(ISLR, quietly = TRUE)\n",
    "library(tidyverse, quietly = TRUE)\n",
    "library(dplyr, quietly = TRUE)\n",
    "library(caret, quietly = TRUE)\n",
    "library(MASS, quietly = TRUE)"
   ]
  },
  {
   "cell_type": "markdown",
   "metadata": {},
   "source": [
    "Import Stock Market Data & Initial Analysis"
   ]
  },
  {
   "cell_type": "code",
   "execution_count": 19,
   "metadata": {
    "ignore": true
   },
   "outputs": [],
   "source": [
    "Smarket = Smarket # import data\n",
    "levels(Smarket$Direction) = c(\"Up\", \"Down\") #relevel Direction\n",
    "\n",
    "#dim(Smarket) # rows columns\n",
    "\n",
    "#summary(Smarket) # summary of variables\n",
    "\n",
    "#cor(Smarket) # Error in cor(Smarket) : 'x' must be numeric\n",
    "#cor(Smarket[,-9]) #remove column 9 and display correlations\n",
    "\n",
    "#pairs(Smarket) # scatterplot matrix"
   ]
  },
  {
   "cell_type": "markdown",
   "metadata": {},
   "source": [
    "### 1) Split data into train & test\n",
    "Split the dataset into training and testing parts. \n",
    "Generate training (before year 2005) and testing (on year 2005) datasets."
   ]
  },
  {
   "cell_type": "code",
   "execution_count": 11,
   "metadata": {},
   "outputs": [],
   "source": [
    "train = filter(Smarket, Year < 2005)\n",
    "test = filter(Smarket, Year >= 2005)"
   ]
  },
  {
   "cell_type": "markdown",
   "metadata": {},
   "source": [
    "### 2) Logistic Regression \n",
    "\n",
    "#### i) Fit a generalized linear regression to the training dataset using a logit link function, set distribution of the response variable to be binomial. Regress direction on Lag1 + Lag2 + Lag3 + Lag4 + Lag5 + Volume"
   ]
  },
  {
   "cell_type": "code",
   "execution_count": 23,
   "metadata": {
    "scrolled": true
   },
   "outputs": [
    {
     "name": "stdout",
     "output_type": "stream",
     "text": [
      "131 correct predictions out of 252"
     ]
    }
   ],
   "source": [
    "mod = glm(Direction~ Lag1 + Lag2 + Lag3 + Lag4 + Lag5 + Volume, data = train, family = binomial(link = \"logit\"))\n",
    "\n",
    "predictions = predict(mod,newdata =  test, type = \"response\") # Predicts values using glm model\n",
    "\n",
    "predictions = # Classifies predicted values as Up (>= 0.5) or Down (< 0.5)\n",
    "  predictions %>% \n",
    "  as.data.frame() %>%\n",
    "  mutate(predictions = ifelse(predictions >= 0.5, \"Up\",\"Down\"))\n",
    "\n",
    "test_w_predicted = cbind(test, \"predictions\" = predictions$predictions) #add predicted values to test dataset\n",
    "\n",
    "test_w_predicted = # New column calculating whether prediction correct or incorrect\n",
    "  test_w_predicted %>%\n",
    "  mutate(`Correct Prediction` = ifelse(Direction == predictions, 1,0)) \n",
    "cat(paste(sum(test_w_predicted$`Correct Prediction`), \"correct predictions out of\", nrow(test_w_predicted) ))\n",
    "\n",
    "levels(test_w_predicted$Direction) = c(\"Up\", \"Down\") #relevel Direction variable\n",
    "levels(test_w_predicted$predictions) = c(\"Up\", \"Down\") #relevel Prediction variable"
   ]
  },
  {
   "cell_type": "markdown",
   "metadata": {},
   "source": [
    "####  ii) Compute the confusion matrix of the outcome of testing data set"
   ]
  },
  {
   "cell_type": "code",
   "execution_count": 14,
   "metadata": {
    "scrolled": true
   },
   "outputs": [
    {
     "data": {
      "text/plain": [
       "Confusion Matrix and Statistics\n",
       "\n",
       "          Reference\n",
       "Prediction Up Down\n",
       "      Up   77   97\n",
       "      Down 34   44\n",
       "                                         \n",
       "               Accuracy : 0.4802         \n",
       "                 95% CI : (0.417, 0.5437)\n",
       "    No Information Rate : 0.5595         \n",
       "    P-Value [Acc > NIR] : 0.9952         \n",
       "                                         \n",
       "                  Kappa : 0.0054         \n",
       "                                         \n",
       " Mcnemar's Test P-Value : 6.062e-08      \n",
       "                                         \n",
       "            Sensitivity : 0.6937         \n",
       "            Specificity : 0.3121         \n",
       "         Pos Pred Value : 0.4425         \n",
       "         Neg Pred Value : 0.5641         \n",
       "             Prevalence : 0.4405         \n",
       "         Detection Rate : 0.3056         \n",
       "   Detection Prevalence : 0.6905         \n",
       "      Balanced Accuracy : 0.5029         \n",
       "                                         \n",
       "       'Positive' Class : Up             \n",
       "                                         "
      ]
     },
     "metadata": {},
     "output_type": "display_data"
    }
   ],
   "source": [
    "confusionMatrix(test_w_predicted$predictions, reference = test_w_predicted$Direction, \"Up\")"
   ]
  },
  {
   "cell_type": "markdown",
   "metadata": {},
   "source": [
    "### 3) Linear Discriminant Analysis\n",
    "\n",
    "#### i) Perform LDA on the training data set using only two predictors, 1st lag and 2nd lag \n"
   ]
  },
  {
   "cell_type": "code",
   "execution_count": 25,
   "metadata": {},
   "outputs": [],
   "source": [
    "lda.mod = lda(Direction~ Lag1 + Lag2, data = train)"
   ]
  },
  {
   "cell_type": "markdown",
   "metadata": {},
   "source": [
    "#### ii) Compute the confusion matrix of the outcome of testing data set"
   ]
  },
  {
   "cell_type": "code",
   "execution_count": 16,
   "metadata": {},
   "outputs": [
    {
     "data": {
      "text/plain": [
       "Confusion Matrix and Statistics\n",
       "\n",
       "          Reference\n",
       "Prediction  Up Down\n",
       "      Up    35   35\n",
       "      Down  76  106\n",
       "                                          \n",
       "               Accuracy : 0.5595          \n",
       "                 95% CI : (0.4959, 0.6218)\n",
       "    No Information Rate : 0.5595          \n",
       "    P-Value [Acc > NIR] : 0.5262856       \n",
       "                                          \n",
       "                  Kappa : 0.0698          \n",
       "                                          \n",
       " Mcnemar's Test P-Value : 0.0001467       \n",
       "                                          \n",
       "            Sensitivity : 0.3153          \n",
       "            Specificity : 0.7518          \n",
       "         Pos Pred Value : 0.5000          \n",
       "         Neg Pred Value : 0.5824          \n",
       "             Prevalence : 0.4405          \n",
       "         Detection Rate : 0.1389          \n",
       "   Detection Prevalence : 0.2778          \n",
       "      Balanced Accuracy : 0.5335          \n",
       "                                          \n",
       "       'Positive' Class : Up              \n",
       "                                          "
      ]
     },
     "metadata": {},
     "output_type": "display_data"
    }
   ],
   "source": [
    "predict.lda = predict(lda.mod, newdata = test)\n",
    "confusionMatrix(predict.lda$class, test$Direction, positive = \"Up\")"
   ]
  },
  {
   "cell_type": "markdown",
   "metadata": {},
   "source": [
    "### 4) Comparison\n",
    "\n",
    "#### i) Compare the two methods above and state the limitations and advantages of both methods \n",
    "\n",
    "- The overall accuracy of the LDA model (0.5595) is greater than the accuracy of the Logistic Regression model (0.4802) and therefore the LDA model is more accurate predictor for Sales (up/ down). \n",
    "- The LDA model has a higher accuracy rate for predicting both Up and Down outcomes. \n",
    "- LDA works under the assumption that the explanatory variables are normally distributed and therefore will perform better than a Logistic Regression model when the data is normally distributed. This advantage of LDA is also a limitation as it is only effective when the explanatory variables are normally distributed. \n",
    "- Below you can see that by plotting histograms for all of the explanatory variables they all suggest they follow a normal distrubution."
   ]
  },
  {
   "cell_type": "code",
   "execution_count": 50,
   "metadata": {},
   "outputs": [
    {
     "data": {
      "image/png": "[encoded data removed]",
      "text/plain": [
       "Plot with title \"Volume\""
      ]
     },
     "metadata": {},
     "output_type": "display_data"
    }
   ],
   "source": [
    "par(mfrow = c(2,3))\n",
    "for(i in 2:7){hist(Smarket[,i], main = names(Smarket)[i], xlab = names(Smarket)[i])}"
   ]
  },
  {
   "cell_type": "markdown",
   "metadata": {},
   "source": [
    "- Therefore explaining why the LDA model has a higher accuracy than the Logistic regression model in this scenario.\n",
    "- Logistic regression models are not reliant on constant variance as well as normality of explanatory variables."
   ]
  }
 ],
 "metadata": {
  "kernelspec": {
   "display_name": "R",
   "language": "R",
   "name": "ir"
  },
  "language_info": {
   "codemirror_mode": "r",
   "file_extension": ".r",
   "mimetype": "text/x-r-source",
   "name": "R",
   "pygments_lexer": "r",
   "version": "3.6.1"
  }
 },
 "nbformat": 4,
 "nbformat_minor": 4
}
